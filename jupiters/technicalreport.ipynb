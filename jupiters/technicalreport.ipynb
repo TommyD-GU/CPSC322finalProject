{
 "cells": [
  {
   "cell_type": "markdown",
   "metadata": {},
   "source": [
    "# Mushroom Toxicity Classification Technical Report \n"
   ]
  },
  {
   "cell_type": "markdown",
   "metadata": {},
   "source": [
    "## 1 Introduction\n",
    "\n",
    "Malia and Tommy chose to do research on a mushroom dataset. Malia and Tommy used classifiers KNN, and Naive Bayes, random forrest You will see below that ______ performed the best.\n",
    "\n",
    "\n",
    "\n",
    "with an accuracy of _______ and recall of ____________, correctly classifiying _________ instances of the testing data."
   ]
  },
  {
   "cell_type": "code",
   "execution_count": 1,
   "metadata": {},
   "outputs": [
    {
     "ename": "ModuleNotFoundError",
     "evalue": "No module named 'utils'",
     "output_type": "error",
     "traceback": [
      "\u001b[0;31m---------------------------------------------------------------------------\u001b[0m",
      "\u001b[0;31mModuleNotFoundError\u001b[0m                       Traceback (most recent call last)",
      "Cell \u001b[0;32mIn[1], line 2\u001b[0m\n\u001b[1;32m      1\u001b[0m \u001b[38;5;28;01mimport\u001b[39;00m \u001b[38;5;21;01mimportlib\u001b[39;00m\n\u001b[0;32m----> 2\u001b[0m \u001b[38;5;28;01mimport\u001b[39;00m \u001b[38;5;21;01mutils\u001b[39;00m\n\u001b[1;32m      3\u001b[0m \u001b[38;5;28;01mimport\u001b[39;00m \u001b[38;5;21;01mmypytable\u001b[39;00m\n\u001b[1;32m      4\u001b[0m importlib\u001b[38;5;241m.\u001b[39mreload(mypytable)\n",
      "\u001b[0;31mModuleNotFoundError\u001b[0m: No module named 'utils'"
     ]
    }
   ],
   "source": [
    "import importlib\n",
    "import utils\n",
    "import mypytable\n",
    "importlib.reload(mypytable)\n",
    "from mypytable import MyPyTable\n",
    "import mysklearn.myknnclassifier as myknnclassifier, mynaivebayesclassifier\n",
    "import myeval\n",
    "\n",
    "mush_data = MyPyTable()\n",
    "mush_data.load_from_file('/home/CPSC322finalProject/new_mushroom_cleaned.csv')"
   ]
  },
  {
   "cell_type": "code",
   "execution_count": null,
   "metadata": {},
   "outputs": [],
   "source": []
  },
  {
   "cell_type": "markdown",
   "metadata": {},
   "source": [
    "## 2 DATA ANALYSIS\n",
    "\n",
    "The research that Malia and Tommy did was classifiying mushrooms as either edible or non-edible. The orginal dataset was 50000 and some noise instances and they pruned it down to approxomatly 1000 of each edible and non-edible. The dataset had attributtes: cap-diameter,cap-shape,gill-attachment,gill-color,stem-height,stem-width,stem-color,season, and finaly class. The starting data was farily clean to begin with, but they had to give numeric values to seasons of the year. When conducting their research the pair used season, cap-shape, gill-attachment to classify their mushrooms."
   ]
  },
  {
   "cell_type": "markdown",
   "metadata": {},
   "source": [
    "## relevant summary stats goes here"
   ]
  },
  {
   "cell_type": "code",
   "execution_count": null,
   "metadata": {},
   "outputs": [],
   "source": [
    "utils.freq_plot(mush_data.data, mush_data.column_names, \"season\", )"
   ]
  },
  {
   "cell_type": "markdown",
   "metadata": {},
   "source": [
    "caption for graph #1"
   ]
  },
  {
   "cell_type": "code",
   "execution_count": null,
   "metadata": {},
   "outputs": [],
   "source": [
    "utils.freq_plot(mush_data.data, mush_data.column_names, \"cap-shape\")"
   ]
  },
  {
   "cell_type": "markdown",
   "metadata": {},
   "source": [
    "caption for graph #2"
   ]
  },
  {
   "cell_type": "code",
   "execution_count": null,
   "metadata": {},
   "outputs": [],
   "source": [
    "utils.freq_plot(mush_data.data, mush_data.column_names, \"gill-attachment\")"
   ]
  },
  {
   "cell_type": "markdown",
   "metadata": {},
   "source": [
    "caption for graph #3"
   ]
  },
  {
   "cell_type": "code",
   "execution_count": null,
   "metadata": {},
   "outputs": [],
   "source": [
    "utils.freq_plot(mush_data.data, mush_data.column_names, \"class\")"
   ]
  },
  {
   "cell_type": "markdown",
   "metadata": {},
   "source": [
    "caption for graph #4"
   ]
  },
  {
   "cell_type": "markdown",
   "metadata": {},
   "source": [
    "## 3 CLASSIFICATON RESULTS"
   ]
  },
  {
   "cell_type": "markdown",
   "metadata": {},
   "source": [
    "### KNN\n",
    "\n",
    "K-Nearest Neighbors (KNN) is a simple algorithm that classifies data points based on the class of their closest neighbors. It compares a new data point to its \"k\" nearest points in the training set and assigns the most common class among them. It relies on distance metrics like Euclidean distance.\n",
    "\n",
    "$$ d(p,q) = \\sqrt{\\sum_{i=1}^{n}(q_i - p_i)^2} $$\n",
    "\n",
    "kNN also requires normalization of data. Normalizing data involves scaling features to a standard range, often [0, 1], or a distribution with a mean of 0 and standard deviation of 1. This ensures that all features contribute equally to the model and prevents algorithms sensitive to feature scales, like k-nearest neighbors, from being biased toward larger-scale features. It improves the stability and performance of many machine learning models.\n",
    "\n",
    "$$ Xnormalized = \\frac{(x - xmin)}{(xmax - xmin)}"
   ]
  },
  {
   "cell_type": "code",
   "execution_count": 10,
   "metadata": {},
   "outputs": [
    {
     "name": "stdout",
     "output_type": "stream",
     "text": [
      "1332\n",
      "1332\n",
      "2703\n",
      "2703\n"
     ]
    }
   ],
   "source": [
    "# train test split and data set shrink\n",
    "indexes_to_remove = utils.rand_inds(50000, 54034)\n",
    "mush_data.drop_rows(indexes_to_remove)\n",
    "\n",
    "\n",
    "#print(len(mush_data.data))\n",
    "\n",
    "df_mush = []\n",
    "for i, row in enumerate(mush_data.data):\n",
    "    df_mush.append(row)\n",
    "\n",
    "#print(len(df_mush))\n",
    "\n",
    "\n",
    "season = [row[7] for row in df_mush]\n",
    "stem_width = [row[5] for row in df_mush]\n",
    "gill_color = [row[3] for row in df_mush]\n",
    "cap_diameter = [row[0] for row in df_mush]\n",
    "\n",
    "yummy_or_nah = [row[8] for row in df_mush]\n",
    "\n",
    "# normalize the data\n",
    "season_norm = utils.normalize_data(season)\n",
    "stem_width_norm = utils.normalize_data(stem_width)\n",
    "gill_color_norm = utils.normalize_data(gill_color)\n",
    "cap_diameter_norm = utils.normalize_data(cap_diameter)\n",
    "\n",
    "data_zipped = list(zip(season_norm, stem_width_norm, gill_color_norm, cap_diameter_norm))\n",
    "X_data = data_zipped\n",
    "\n",
    "X_train, X_test, y_train, y_test = myeval.train_test_split(X_data, yummy_or_nah, test_size=0.33, random_state=1, shuffle=True)\n",
    "print(len(y_test))\n",
    "print(len(X_test))\n",
    "print(len(X_train))\n",
    "print(len(y_train))"
   ]
  },
  {
   "cell_type": "code",
   "execution_count": 11,
   "metadata": {},
   "outputs": [],
   "source": [
    "# initiate the knn\n",
    "knn = myknnclassifier.MyKNeighborsClassifier(n_neighbors= 5)\n",
    "\n",
    "knn.fit(X_train, y_train)\n",
    "\n",
    "knn_y_pred = knn.predict(X_test)"
   ]
  },
  {
   "cell_type": "code",
   "execution_count": 12,
   "metadata": {},
   "outputs": [
    {
     "name": "stdout",
     "output_type": "stream",
     "text": [
      "Accuacy: 0.8026\n",
      "Recall: 0.8288\n"
     ]
    }
   ],
   "source": [
    "acc = utils.compute_accuracy(knn_y_pred, y_test)\n",
    "print(f'Accuacy: {acc:.4f}')\n",
    "\n",
    "recall = utils.compute_recall(knn_y_pred, y_test, positive_label=1)\n",
    "print(f'Recall: {recall:.4f}')"
   ]
  },
  {
   "cell_type": "markdown",
   "metadata": {},
   "source": [
    "### Naive Bayes\n",
    "\n"
   ]
  },
  {
   "cell_type": "code",
   "execution_count": 13,
   "metadata": {},
   "outputs": [
    {
     "ename": "TypeError",
     "evalue": "randomize_in_place() got an unexpected keyword argument 'seed'",
     "output_type": "error",
     "traceback": [
      "\u001b[0;31m---------------------------------------------------------------------------\u001b[0m",
      "\u001b[0;31mTypeError\u001b[0m                                 Traceback (most recent call last)",
      "Cell \u001b[0;32mIn[13], line 4\u001b[0m\n\u001b[1;32m      2\u001b[0m k \u001b[38;5;241m=\u001b[39m \u001b[38;5;241m10\u001b[39m\n\u001b[1;32m      3\u001b[0m \u001b[38;5;66;03m# Stratified k-fold split\u001b[39;00m\n\u001b[0;32m----> 4\u001b[0m folds \u001b[38;5;241m=\u001b[39m myeval\u001b[38;5;241m.\u001b[39mstratified_kfold_split(X_data, y, n_splits\u001b[38;5;241m=\u001b[39mk, shuffle\u001b[38;5;241m=\u001b[39m\u001b[38;5;28;01mTrue\u001b[39;00m, random_state\u001b[38;5;241m=\u001b[39m\u001b[38;5;241m2\u001b[39m)\n",
      "File \u001b[0;32m/home/CPSC322finalProject/myeval.py:115\u001b[0m, in \u001b[0;36mstratified_kfold_split\u001b[0;34m(X, y, n_splits, random_state, shuffle)\u001b[0m\n\u001b[1;32m    113\u001b[0m \u001b[38;5;66;03m# Shuffle the indices if specified\u001b[39;00m\n\u001b[1;32m    114\u001b[0m \u001b[38;5;28;01mif\u001b[39;00m shuffle:\n\u001b[0;32m--> 115\u001b[0m     utils\u001b[38;5;241m.\u001b[39mrandomize_in_place(indices, seed\u001b[38;5;241m=\u001b[39mrandom_state)\n\u001b[1;32m    117\u001b[0m \u001b[38;5;66;03m# Get unique classes and their counts\u001b[39;00m\n\u001b[1;32m    118\u001b[0m unique_classes, _ \u001b[38;5;241m=\u001b[39m np\u001b[38;5;241m.\u001b[39munique(y, return_counts\u001b[38;5;241m=\u001b[39m\u001b[38;5;28;01mTrue\u001b[39;00m)\n",
      "\u001b[0;31mTypeError\u001b[0m: randomize_in_place() got an unexpected keyword argument 'seed'"
     ]
    }
   ],
   "source": [
    "y = [row[-1] for row in mush_data.data]   # Labels: survived\n",
    "k = 10\n",
    "# Stratified k-fold split\n",
    "folds = myeval.stratified_kfold_split(X_data, y, n_splits=k, shuffle=True, random_state=2)\n"
   ]
  }
 ],
 "metadata": {
  "kernelspec": {
   "display_name": "base",
   "language": "python",
   "name": "python3"
  },
  "language_info": {
   "codemirror_mode": {
    "name": "ipython",
    "version": 3
   },
   "file_extension": ".py",
   "mimetype": "text/x-python",
   "name": "python",
   "nbconvert_exporter": "python",
   "pygments_lexer": "ipython3",
   "version": "3.12.4"
  }
 },
 "nbformat": 4,
 "nbformat_minor": 2
}
