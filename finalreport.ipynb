{
 "cells": [
  {
   "cell_type": "markdown",
   "metadata": {},
   "source": [
    "# Mushroom Toxicity Classification Technical Report \n"
   ]
  },
  {
   "cell_type": "markdown",
   "metadata": {},
   "source": [
    "## Introduction"
   ]
  },
  {
   "cell_type": "markdown",
   "metadata": {},
   "source": [
    "## Data Analysis"
   ]
  },
  {
   "cell_type": "code",
   "execution_count": null,
   "metadata": {},
   "outputs": [],
   "source": []
  },
  {
   "cell_type": "code",
   "execution_count": 7,
   "metadata": {},
   "outputs": [
    {
     "data": {
      "text/plain": [
       "<mysklearn.mypytable.MyPyTable at 0xffffa493f530>"
      ]
     },
     "execution_count": 7,
     "metadata": {},
     "output_type": "execute_result"
    }
   ],
   "source": [
    "import importlib\n",
    "\n",
    "import mysklearn.mypytable as mypytable\n",
    "importlib.reload(mypytable)\n",
    "from mysklearn.mypytable import MyPyTable\n",
    "\n",
    "import mysklearn.myknnclassifier\n",
    "importlib.reload(mysklearn.myknnclassifier)\n",
    "from mysklearn.myknnclassifier import MyKNeighborsClassifier\n",
    "\n",
    "import mysklearn.mynaivebayesclassifier\n",
    "importlib.reload(mysklearn.mynaivebayesclassifier)\n",
    "from mysklearn.mynaivebayesclassifier import MyNaiveBayesClassifier\n",
    "\n",
    "import mysklearn.myeval\n",
    "importlib.reload(mysklearn.myeval)\n",
    "import mysklearn.myeval as myeval\n",
    "\n",
    "\n",
    "\n",
    "import utils\n",
    "importlib.reload(utils)\n",
    "import utils as utils\n",
    "\n",
    "mush_data = MyPyTable()\n",
    "mush_data.load_from_file('/home/CPSC322finalProject/input_data/new_mushroom_cleaned.csv')"
   ]
  },
  {
   "cell_type": "markdown",
   "metadata": {},
   "source": [
    "### KNN"
   ]
  },
  {
   "cell_type": "code",
   "execution_count": 8,
   "metadata": {},
   "outputs": [
    {
     "name": "stdout",
     "output_type": "stream",
     "text": [
      "1332\n",
      "1332\n",
      "2703\n",
      "2703\n"
     ]
    }
   ],
   "source": [
    "# train test split and data set shrink\n",
    "indexes_to_remove = utils.rand_inds(50000, 54034)\n",
    "mush_data.drop_rows(indexes_to_remove)\n",
    "\n",
    "\n",
    "#print(len(mush_data.data))\n",
    "\n",
    "df_mush = []\n",
    "for i, row in enumerate(mush_data.data):\n",
    "    df_mush.append(row)\n",
    "\n",
    "#print(len(df_mush))\n",
    "\n",
    "\n",
    "season = [row[7] for row in df_mush]\n",
    "stem_width = [row[5] for row in df_mush]\n",
    "gill_color = [row[3] for row in df_mush]\n",
    "cap_diameter = [row[0] for row in df_mush]\n",
    "\n",
    "yummy_or_nah = [row[8] for row in df_mush]\n",
    "\n",
    "# normalize the data\n",
    "season_norm = utils.normalize_data(season)\n",
    "stem_width_norm = utils.normalize_data(stem_width)\n",
    "gill_color_norm = utils.normalize_data(gill_color)\n",
    "cap_diameter_norm = utils.normalize_data(cap_diameter)\n",
    "\n",
    "data_zipped = list(zip(season_norm, stem_width_norm, gill_color_norm, cap_diameter_norm))\n",
    "X_data = data_zipped\n",
    "\n",
    "X_train, X_test, y_train, y_test = myeval.train_test_split(X_data, yummy_or_nah, test_size=0.33, random_state=1, shuffle=True)\n",
    "print(len(y_test))\n",
    "print(len(X_test))\n",
    "print(len(X_train))\n",
    "print(len(y_train))"
   ]
  },
  {
   "cell_type": "code",
   "execution_count": 10,
   "metadata": {},
   "outputs": [],
   "source": [
    "# initiate the knn\n",
    "knn = MyKNeighborsClassifier(n_neighbors= 5)\n",
    "\n",
    "knn.fit(X_train, y_train)\n",
    "\n",
    "knn_y_pred = knn.predict(X_test)"
   ]
  },
  {
   "cell_type": "code",
   "execution_count": 11,
   "metadata": {},
   "outputs": [
    {
     "name": "stdout",
     "output_type": "stream",
     "text": [
      "Accuacy: 0.7988\n",
      "Recall: 0.8226\n"
     ]
    }
   ],
   "source": [
    "acc = utils.compute_accuracy(knn_y_pred, y_test)\n",
    "print(f'Accuacy: {acc:.4f}')\n",
    "\n",
    "recall = utils.compute_recall(knn_y_pred, y_test, positive_label=1)\n",
    "print(f'Recall: {recall:.4f}')"
   ]
  },
  {
   "cell_type": "markdown",
   "metadata": {},
   "source": [
    "### Naive Bayes"
   ]
  },
  {
   "cell_type": "code",
   "execution_count": 12,
   "metadata": {},
   "outputs": [],
   "source": [
    "y = [row[-1] for row in mush_data.data]   # Labels: survived\n",
    "k = 10\n",
    "# Stratified k-fold split\n",
    "folds = myeval.stratified_kfold_split(X_data, y, n_splits=k, shuffle=True, random_state=2)\n"
   ]
  },
  {
   "cell_type": "code",
   "execution_count": 14,
   "metadata": {},
   "outputs": [],
   "source": [
    "# Initialize Naive Bayes classifier\n",
    "nb_classifier = MyNaiveBayesClassifier()\n",
    "\n",
    "# List to store the results for each fold\n",
    "nb_results = []\n",
    "\n",
    "# Perform cross-validation\n",
    "for train_indices, test_indices in folds:\n",
    "    # Split the data into training and testing sets based on the current fold\n",
    "    X_train = [X_data[i] for i in train_indices]\n",
    "    y_train = [y[i] for i in train_indices]\n",
    "    X_test = [X_data[i] for i in test_indices]\n",
    "    y_test = [y[i] for i in test_indices]\n",
    "\n",
    "    # Train the Naive Bayes classifier\n",
    "    nb_classifier.fit(X_train, y_train)\n",
    "\n",
    "    # Make predictions on the test set\n",
    "    y_pred = nb_classifier.predict(X_test)\n",
    "\n",
    "    # Store the results (true labels and predicted labels)\n",
    "    nb_results.append((y_test, y_pred))"
   ]
  },
  {
   "cell_type": "code",
   "execution_count": 15,
   "metadata": {},
   "outputs": [
    {
     "name": "stdout",
     "output_type": "stream",
     "text": [
      "Accuracy:     0.6072\n",
      "Error Rate:   0.3928\n"
     ]
    }
   ],
   "source": [
    "# Accuracy and Error Rate\n",
    "nb_accuracy, nb_error_rate = utils.calculate_accuracy_error_rate(nb_results)\n",
    "# Display the results\n",
    "print(f\"Accuracy:     {nb_accuracy:.4f}\")\n",
    "print(f\"Error Rate:   {nb_error_rate:.4f}\")"
   ]
  }
 ],
 "metadata": {
  "kernelspec": {
   "display_name": "base",
   "language": "python",
   "name": "python3"
  },
  "language_info": {
   "codemirror_mode": {
    "name": "ipython",
    "version": 3
   },
   "file_extension": ".py",
   "mimetype": "text/x-python",
   "name": "python",
   "nbconvert_exporter": "python",
   "pygments_lexer": "ipython3",
   "version": "3.12.4"
  }
 },
 "nbformat": 4,
 "nbformat_minor": 2
}
