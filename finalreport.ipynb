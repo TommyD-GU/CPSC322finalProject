{
 "cells": [
  {
   "cell_type": "markdown",
   "metadata": {},
   "source": [
    "# Mushroom Toxicity Classification Technical Report \n"
   ]
  },
  {
   "cell_type": "markdown",
   "metadata": {},
   "source": [
    "## Introduction"
   ]
  },
  {
   "cell_type": "markdown",
   "metadata": {},
   "source": [
    "## Data Analysis"
   ]
  },
  {
   "cell_type": "code",
   "execution_count": null,
   "metadata": {},
   "outputs": [],
   "source": []
  },
  {
   "cell_type": "code",
   "execution_count": 4,
   "metadata": {},
   "outputs": [
    {
     "data": {
      "text/plain": [
       "<mypytable.MyPyTable at 0xffff8e045790>"
      ]
     },
     "execution_count": 4,
     "metadata": {},
     "output_type": "execute_result"
    }
   ],
   "source": [
    "import importlib\n",
    "import utils\n",
    "import mypytable\n",
    "importlib.reload(mypytable)\n",
    "from mypytable import MyPyTable\n",
    "import myknnclassifier, mynaivebayesclassifier\n",
    "import myeval\n",
    "\n",
    "mush_data = MyPyTable()\n",
    "mush_data.load_from_file('/home/CPSC322finalProject/new_mushroom_cleaned.csv')"
   ]
  },
  {
   "cell_type": "markdown",
   "metadata": {},
   "source": [
    "### KNN"
   ]
  },
  {
   "cell_type": "code",
   "execution_count": 5,
   "metadata": {},
   "outputs": [
    {
     "name": "stdout",
     "output_type": "stream",
     "text": [
      "1332\n",
      "1332\n",
      "2703\n",
      "2703\n"
     ]
    }
   ],
   "source": [
    "# train test split and data set shrink\n",
    "indexes_to_remove = utils.rand_inds(50000, 54034)\n",
    "mush_data.drop_rows(indexes_to_remove)\n",
    "\n",
    "\n",
    "#print(len(mush_data.data))\n",
    "\n",
    "df_mush = []\n",
    "for i, row in enumerate(mush_data.data):\n",
    "    df_mush.append(row)\n",
    "\n",
    "#print(len(df_mush))\n",
    "\n",
    "\n",
    "season = [row[7] for row in df_mush]\n",
    "stem_width = [row[5] for row in df_mush]\n",
    "gill_color = [row[3] for row in df_mush]\n",
    "cap_diameter = [row[0] for row in df_mush]\n",
    "\n",
    "yummy_or_nah = [row[8] for row in df_mush]\n",
    "\n",
    "# normalize the data\n",
    "season_norm = utils.normalize_data(season)\n",
    "stem_width_norm = utils.normalize_data(stem_width)\n",
    "gill_color_norm = utils.normalize_data(gill_color)\n",
    "cap_diameter_norm = utils.normalize_data(cap_diameter)\n",
    "\n",
    "data_zipped = list(zip(season_norm, stem_width_norm, gill_color_norm, cap_diameter_norm))\n",
    "X_data = data_zipped\n",
    "\n",
    "X_train, X_test, y_train, y_test = myeval.train_test_split(X_data, yummy_or_nah, test_size=0.33, random_state=1, shuffle=True)\n",
    "print(len(y_test))\n",
    "print(len(X_test))\n",
    "print(len(X_train))\n",
    "print(len(y_train))"
   ]
  },
  {
   "cell_type": "code",
   "execution_count": 6,
   "metadata": {},
   "outputs": [],
   "source": [
    "# initiate the knn\n",
    "knn = myknnclassifier.MyKNeighborsClassifier(n_neighbors= 5)\n",
    "\n",
    "knn.fit(X_train, y_train)\n",
    "\n",
    "knn_y_pred = knn.predict(X_test)"
   ]
  },
  {
   "cell_type": "code",
   "execution_count": 7,
   "metadata": {},
   "outputs": [
    {
     "name": "stdout",
     "output_type": "stream",
     "text": [
      "Accuacy: 0.8026\n",
      "Recall: 0.8288\n"
     ]
    }
   ],
   "source": [
    "acc = utils.compute_accuracy(knn_y_pred, y_test)\n",
    "print(f'Accuacy: {acc:.4f}')\n",
    "\n",
    "recall = utils.compute_recall(knn_y_pred, y_test, positive_label=1)\n",
    "print(f'Recall: {recall:.4f}')"
   ]
  },
  {
   "cell_type": "markdown",
   "metadata": {},
   "source": [
    "### Naive Bayes"
   ]
  },
  {
   "cell_type": "code",
   "execution_count": null,
   "metadata": {},
   "outputs": [],
   "source": [
    "k = 10\n",
    "# Stratified k-fold split\n",
    "folds = myeval.stratified_kfold_split(X, y, n_splits=k, shuffle=True, random_state=2)\n"
   ]
  }
 ],
 "metadata": {
  "kernelspec": {
   "display_name": "base",
   "language": "python",
   "name": "python3"
  },
  "language_info": {
   "codemirror_mode": {
    "name": "ipython",
    "version": 3
   },
   "file_extension": ".py",
   "mimetype": "text/x-python",
   "name": "python",
   "nbconvert_exporter": "python",
   "pygments_lexer": "ipython3",
   "version": "3.12.4"
  }
 },
 "nbformat": 4,
 "nbformat_minor": 2
}
