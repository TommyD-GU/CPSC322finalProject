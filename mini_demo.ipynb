{
 "cells": [
  {
   "cell_type": "markdown",
   "metadata": {},
   "source": []
  },
  {
   "cell_type": "markdown",
   "metadata": {},
   "source": [
    "# Mini Demo\n"
   ]
  },
  {
   "cell_type": "code",
   "execution_count": 5,
   "metadata": {},
   "outputs": [
    {
     "data": {
      "text/plain": [
       "<mypytable.MyPyTable at 0xffff65db5310>"
      ]
     },
     "execution_count": 5,
     "metadata": {},
     "output_type": "execute_result"
    }
   ],
   "source": [
    "import importlib\n",
    "import utils\n",
    "import mypytable\n",
    "importlib.reload(mypytable)\n",
    "from mypytable import MyPyTable\n",
    "import myknnclassifier\n",
    "\n",
    "mush_data = MyPyTable()\n",
    "mush_data.load_from_file('/home/CPSC322finalProject/new_mushroom_cleaned.csv')"
   ]
  },
  {
   "cell_type": "code",
   "execution_count": null,
   "metadata": {},
   "outputs": [
    {
     "name": "stdout",
     "output_type": "stream",
     "text": [
      "6282\n",
      "6282\n",
      "12753\n",
      "12753\n"
     ]
    }
   ],
   "source": [
    "# train test split and data set shrink\n",
    "indexes_to_remove = utils.rand_inds(35000, 54034)\n",
    "mush_data.drop_rows(indexes_to_remove)\n",
    "\n",
    "\n",
    "#print(len(mush_data.data))\n",
    "\n",
    "df_mush = []\n",
    "for i, row in enumerate(mush_data.data):\n",
    "    df_mush.append(row)\n",
    "\n",
    "#print(len(df_mush))\n",
    "\n",
    "\n",
    "season = [row[7] for row in df_mush]\n",
    "stem_width = [row[5] for row in df_mush]\n",
    "gill_color = [row[3] for row in df_mush]\n",
    "cap_diameter = [row[0] for row in df_mush]\n",
    "\n",
    "yummy_or_nah = [row[8] for row in df_mush]\n",
    "\n",
    "# normalize the data\n",
    "season_norm = utils.normalize_data(season)\n",
    "stem_width_norm = utils.normalize_data(stem_width)\n",
    "gill_color_norm = utils.normalize_data(gill_color)\n",
    "cap_diameter_norm = utils.normalize_data(cap_diameter)\n",
    "\n",
    "data_zipped = list(zip(season_norm, stem_width_norm, gill_color_norm, cap_diameter_norm))\n",
    "X_data = data_zipped\n",
    "\n",
    "X_train, X_test, y_train, y_test = utils.train_test_split(X_data, yummy_or_nah, test_size=0.33, random_state=1, shuffle=True)\n",
    "print(len(y_test))\n",
    "print(len(X_test))\n",
    "print(len(X_train))\n",
    "print(len(y_train))\n"
   ]
  },
  {
   "cell_type": "markdown",
   "metadata": {},
   "source": [
    "## KNN MUSHROOMS!"
   ]
  },
  {
   "cell_type": "code",
   "execution_count": null,
   "metadata": {},
   "outputs": [
    {
     "ename": "AttributeError",
     "evalue": "module 'utils' has no attribute 'MyKNeighborsClassifier'",
     "output_type": "error",
     "traceback": [
      "\u001b[0;31m---------------------------------------------------------------------------\u001b[0m",
      "\u001b[0;31mAttributeError\u001b[0m                            Traceback (most recent call last)",
      "Cell \u001b[0;32mIn[7], line 2\u001b[0m\n\u001b[1;32m      1\u001b[0m \u001b[38;5;66;03m# initiate the knn\u001b[39;00m\n\u001b[0;32m----> 2\u001b[0m knn \u001b[38;5;241m=\u001b[39m utils\u001b[38;5;241m.\u001b[39mMyKNeighborsClassifier(n_neighbors\u001b[38;5;241m=\u001b[39m \u001b[38;5;241m5\u001b[39m)\n\u001b[1;32m      4\u001b[0m knn\u001b[38;5;241m.\u001b[39mfit(X_train, y_train)\n\u001b[1;32m      6\u001b[0m knn_y_pred \u001b[38;5;241m=\u001b[39m knn\u001b[38;5;241m.\u001b[39mpredict(X_test)\n",
      "\u001b[0;31mAttributeError\u001b[0m: module 'utils' has no attribute 'MyKNeighborsClassifier'"
     ]
    }
   ],
   "source": [
    "# initiate the knn\n",
    "knn = myknnclassifier.MyKNeighborsClassifier(n_neighbors= 5)\n",
    "\n",
    "knn.fit(X_train, y_train)\n",
    "\n",
    "knn_y_pred = knn.predict(X_test)\n",
    "print(knn_y_pred)"
   ]
  },
  {
   "cell_type": "code",
   "execution_count": null,
   "metadata": {},
   "outputs": [],
   "source": [
    "# utils.freq_plot(infile, col_name_x)"
   ]
  }
 ],
 "metadata": {
  "kernelspec": {
   "display_name": "base",
   "language": "python",
   "name": "python3"
  },
  "language_info": {
   "codemirror_mode": {
    "name": "ipython",
    "version": 3
   },
   "file_extension": ".py",
   "mimetype": "text/x-python",
   "name": "python",
   "nbconvert_exporter": "python",
   "pygments_lexer": "ipython3",
   "version": "3.12.4"
  }
 },
 "nbformat": 4,
 "nbformat_minor": 2
}
