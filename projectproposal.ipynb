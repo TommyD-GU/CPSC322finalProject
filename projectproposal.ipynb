{
 "cells": [
  {
   "cell_type": "markdown",
   "metadata": {},
   "source": [
    "## Poisonous Mushroom Classification\n",
    "\n",
    "1. MoMo, Tom\n"
   ]
  },
  {
   "cell_type": "markdown",
   "metadata": {},
   "source": [
    "2. data description\n",
    "    Source: Kaggle\n",
    "\n",
    "    Format: csv\n",
    "\n",
    "    Contents: \n",
    "    Over 54,000 instances with 8 attributes: \n",
    "    * Cap Diameter\n",
    "    * Cap Shape\n",
    "    * Gill Attachment\n",
    "    * Gill Color\n",
    "    * Stem Height\n",
    "    * Stem Width\n",
    "    * Stem Color\n",
    "    * Season\n",
    "\n",
    "    Classification - Is it edible or not?\n",
    "    One binary class divided in edible=e and poisonous=p (with the latter one also containing mushrooms of unknown edibility).\n",
    "    8 variables (n: nominal, m: metrical)\n",
    "    1. cap-diameter (m): float number in cm\n",
    "    2. cap-shape (n): bell=0, conical=1, convex=2, flat=3, sunken=4, spherical=5, others=6\n",
    "    6. gill-attachment (n): adnate=0, adnexed=1, decurrent=2, free=3, sinuate=4, pores=5, none=6\n",
    "    8. gill-color (n): brown=0, buff=1, gray=2, green=3, pink=4,purple=5, red=6, white=7, yellow=8, blue=9, orange=10, black=11\n",
    "    9. stem-height (m): float number in cm\n",
    "    10. stem-width (m): float number in mm\n",
    "    13. stem-color (n): brown=0, buff=1, gray=2, green=3, pink=4,purple=5, red=6, white=7, yellow=8, blue=9, orange=10, black=11\n",
    "    20. season (n): spring=s, summer=u, autumn=a, winter=w\n",
    "0.027372133055605714 w\n",
    "0.8884502877862838 s\n",
    "0.9431945538974952 u\n",
    "1.8042727086281731 a\n",
    "\n",
    "3. implementation.technicla merit\n",
    "    We need to discritize the seasons on the dataset\n",
    "4. potential impact of the results\n",
    "    Why are these results usful?\n",
    "        We will have a model that predicts wheter a mushroom is poisonous or not for humans\n",
    "    Who are people interested in the outcome?\n",
    "        All people will find value, particullarly hikers and outdoor enthusiasts.\n",
    "\n",
    "    "
   ]
  },
  {
   "cell_type": "code",
   "execution_count": null,
   "metadata": {},
   "outputs": [],
   "source": []
  }
 ],
 "metadata": {
  "kernelspec": {
   "display_name": "base",
   "language": "python",
   "name": "python3"
  },
  "language_info": {
   "codemirror_mode": {
    "name": "ipython",
    "version": 3
   },
   "file_extension": ".py",
   "mimetype": "text/x-python",
   "name": "python",
   "nbconvert_exporter": "python",
   "pygments_lexer": "ipython3",
   "version": "3.12.4"
  }
 },
 "nbformat": 4,
 "nbformat_minor": 2
}
